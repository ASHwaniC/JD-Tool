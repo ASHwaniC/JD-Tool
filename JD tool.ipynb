{
 "cells": [
  {
   "cell_type": "markdown",
   "metadata": {},
   "source": [
    "# Used Libraries\n"
   ]
  },
  {
   "cell_type": "code",
   "execution_count": 29,
   "metadata": {
    "collapsed": true
   },
   "outputs": [],
   "source": [
    "import pandas as pd\n",
    "import numpy as np\n",
    "import docx"
   ]
  },
  {
   "cell_type": "markdown",
   "metadata": {},
   "source": [
    "# Importing the File\n",
    "The file should be in docx format. Taking all the text free data in a string."
   ]
  },
  {
   "cell_type": "code",
   "execution_count": 30,
   "metadata": {},
   "outputs": [
    {
     "data": {
      "text/plain": [
       "'job description job title: head of marketing   department: marketing team   job location: vashi, navi mumbai   role & responsibilities:  work with department heads to plan and execute a marketing plan, facilitate new processes, tools, communications, training and methodologies to strengthen market penetration and client acquisition. guide team to build and manage best-in-class demand generation programs using the right mix of inbound, broad-based, account-based, and paid media strategies to optimize lead-to-opportunity-to-deal funnel and drive pipeline for the business.  campaigns/crm - responsible for driving smarte s lead sales and marketing campaign programs in us/emea/apac markets, prioritize and execute effectively throughout the lead life cycle to drive new business and manage crm analytics/pipeline/roi metrics.  product marketing  own complete product from concept, marketing requirements document (mrd), product requirements document (prd), competitive analysis, positioning, promotion and pricing. develop product positioning and messaging that differentiates our products in the market. industry/solution specific messaging and campaign messaging for mass marketingand account based marketing programs. internal & external content management  creation of new, repurposing and reuse of content such as case studies, success stories, product sheet, service description, sales pitch decks, internal bulletins, press releases, articles, competition, infographics, videos, screen casts, audio, testimonials, articles, white papers, blogs etc.  create outbound messaging to communicate product to marketplace (features, benefits, release timing, pricing, how delivered, etc.) serve as required as the primary point of contact for industry analysts and reporters, speak at related conventions and trade shows etc.  tradeshows and events  set guidance for major tradeshows and events that smarte sponsors and participates in. responsible for supporting road shows, webinars, product launch etc. with creatives like infographics, event booth, standees, banners, backdrops, fliers, brochures, digital posts, e-newsletters, sponsorship design, gifts. lead generation through events, webinars etc. with significant roi.  sales enablement  responsible for the creation of collaterals and sales enablers (web, presentation, demo cds, screen shots).  sales team training - communicating the value proposition of our products to the sales team and developing sales tools that support the selling process of our products (decks, case studies, competitive guides), sales play books etc.  competitive strategy and positioning partner marketing: align with partner/alliance team on the strategy and set guidance for co-marketing with strategic partners to source and influence pipeline. plan, execute and track cross-channel marketing initiatives for brand impact and pipeline growth designing innovative promotional campaigns / projects to create brand awareness and accomplished brand communication objectives. social media/digital  set guidance and direction for our head of social marketing and team to amplify our social marketing efforts and closely measure effectiveness.  digital marketing & analytical reporting end-to end social media functionality, blog, organic/search engine optimization, search engine marketing, social media optimization, internal portals, website , competition tracking, market measurement and marketing analytics conceptualize and drive the digital marketing programs to create conversion metric strategies, lead generation & social monitoring catering b2b environments corporate communication media/analyst relations, press releases, news coverage and branding   people management and development:  strong people management and relationship-building skills with ability to operate at most senior levels. adept at influencing and aligning teams to make things happen, building trust and collaborative relationships, knows self deeply and creates teams to complement own strengths  develop and build team to support a vibrant one team marketing culture.   a little more about you  you are creative and detail oriented marketing professional who wants to take ownership of a brands success. you have had success in the past and are now looking for an environment where you can take a trusted brand with a loyal following and make it a global phenomenon.  work experience & domain knowledge:  15 - 20 years experience in demand generation and overall marketing, including proven success at saas or a b2b software company.  b.e, b. tech with post graduation in marketing preferred  excellent communication and presentation skills and influential speaker  proven experience creating marketing plans encompassing strategy, customer research, competitive analysis, product requirements, messaging, pricing, etc.  passionate about making a difference, relentlessly seeks out and overcomes major challenges, has real drive and determination, continuously raises the bar and is emotionally resilient, proven track record in delivering to tight deadlines under pressure.  create appealing and innovative product concepts and communications, ability to evaluate risk management concepts  entrepreneurial thinking, turns strategy into results, measures, manages and delivers performance, always delivers on promises. excellent analytical and problem-solving skills and the ability to be creative and to think outside the box.  world-class leader to effectively build a team of some of the best marketers in the world.  inspirational leader someone who has been there, done that in terms of building and inspiring high-performance teams at all levels in demand generation, digital, and social marketing. compelling storyteller, capable of taking our best practices and techniques and elevating them to compelling stories that showcase our second-to-none expertise in digital marketing.'"
      ]
     },
     "execution_count": 30,
     "metadata": {},
     "output_type": "execute_result"
    }
   ],
   "source": [
    "doc = docx.Document('c:\\\\Marketing JD.docx')\n",
    "fullText = []\n",
    "for para in doc.paragraphs:\n",
    "    fullText.append(para.text)\n",
    "l=' '.join(fullText)\n",
    "l=l.lower()\n",
    "l"
   ]
  },
  {
   "cell_type": "markdown",
   "metadata": {},
   "source": [
    "# Replacing all the skill words with the Salad Bar Mapping."
   ]
  },
  {
   "cell_type": "code",
   "execution_count": 31,
   "metadata": {
    "collapsed": true
   },
   "outputs": [],
   "source": [
    "l=l.replace('marketing','Marketing ')\n",
    "l=l.replace('sale','Sales ')\n",
    "l=l.replace('marketing management','Planning & Execution ')\n",
    "l=l.replace('digital marketing','Online/digital marketing ')\n",
    "l=l.replace('business development','Business Development/Partnerships ')\n",
    "l=l.replace('brand management','Branding ')\n",
    "l=l.replace('product management','Product Management/Product Manager ')\n",
    "l=l.replace('social media','Digital Marketing/Social Media ')\n",
    "l=l.replace('marketing strategy','Strategy/Planning ')\n",
    "l=l.replace('market research','Market sizing ')\n",
    "l=l.replace('btl','Selecting marketing channels ')\n",
    "l=l.replace('branding','Branding ')\n",
    "l=l.replace('strategy','Strategic decisions ')\n",
    "l=l.replace('atl','Selecting marketing channels ')\n",
    "l=l.replace('advertising','Advertising ')\n",
    "l=l.replace('pr ','Public Relations(PR) ')\n",
    "l=l.replace('promotion','Selecting marketing channels ')\n",
    "l=l.replace('campaign','Ignore ')\n",
    "l=l.replace('product marketing','Marketing ')\n",
    "l=l.replace('seo','Online/digital marketing ')\n",
    "l=l.replace('marketing communication','Communications ')\n",
    "l=l.replace('business development manager','Business Development/Partnerships ')\n",
    "l=l.replace('sales management','Ignore ')\n",
    "l=l.replace('event','Ignore ')\n",
    "l=l.replace('sem','Online/digital marketing ')\n",
    "l=l.replace('marketing planning','Planning & Execution ')\n",
    "l=l.replace('lead generation','Lead generation ')\n",
    "l=l.replace('online marketing','Online/digital marketing ')\n",
    "l=l.replace('marketing campaigns','Ignore ')\n",
    "l=l.replace('email marketing','Online/digital marketing ')\n",
    "l=l.replace('project management','Project/Program Manager ')\n",
    "l=l.replace('product development','Product Management/Product Manager ')\n",
    "l=l.replace('digital media','Online/digital marketing ')\n",
    "l=l.replace('client servicing','Understanding customers ')\n",
    "l=l.replace('sales strategy','Strategic decisions ')\n",
    "l=l.replace('accountant','Financial accounting ')\n",
    "l=l.replace('selling','Sales ')\n",
    "l=l.replace('key accounts management','Account manager ')\n",
    "l=l.replace('brand communication','Branding ')\n",
    "l=l.replace('campaign management','Ignore ')\n",
    "l=l.replace('public relation','Public Relations(PR) ')\n",
    "l=l.replace('b2b','Sales-B2C/D2C/Teritary ')\n",
    "l=l.replace('social media marketing','Online/digital marketing ')\n",
    "l=l.replace('brand building','Branding ')\n",
    "l=l.replace('account management','Account Manager ')\n",
    "l=l.replace('media planning','Execution plan ')\n",
    "l=l.replace('brand marketing','Branding ')\n",
    "l=l.replace('business planning','Strategy/Planning ')\n",
    "l=l.replace('mba','Ignore ')\n",
    "l=l.replace('set()','Ignore ')\n",
    "l=l.replace('new product launch','Product Management/Product Manager ')\n",
    "l=l.replace('relationship management','Managing multiple stakeholders ')\n",
    "l=l.replace('corporate sale','Sales-B2B/Institutional/Enterprise ')\n",
    "l=l.replace('brand planning','Brandng ')\n",
    "l=l.replace('brand strategy','Strategic decisions ')\n",
    "l=l.replace('channel sale','Sales- Channel/B2B2C/Distributor/Retail/Second ')\n",
    "l=l.replace('crm','CRM ')\n",
    "l=l.replace('website','Ignore ')\n",
    "l=l.replace('business analyst','Ignore ')\n",
    "l=l.replace('media relations','Public Relations(PR) ')\n",
    "l=l.replace('channel partner','Sales- Channel/B2B2C/Distributor/Retail/Second ')\n",
    "l=l.replace('sales marketing','Marketing ')\n",
    "l=l.replace('new product','Product Management/Product Manager ')\n",
    "l=l.replace('nan','Ignore ')\n",
    "l=l.replace('operation','Operations ')\n",
    "l=l.replace('budgeting','Budgeting ')\n",
    "l=l.replace('macrom','Communications ')\n",
    "l=l.replace('financial','Ignore ')\n",
    "l=l.replace('area sales manager','Sales- Channel/B2B2C/Distributor/Retail/Second ')\n",
    "l=l.replace('marketing programs','Marketng ')\n",
    "l=l.replace('alliance','Partnership/Relations ')\n",
    "l=l.replace('category management','Ignore ')\n",
    "l=l.replace('iim','Ignore ')\n",
    "l=l.replace('team management','Managing people ')\n",
    "l=l.replace('google analytics','Online/digital marketing ')\n",
    "l=l.replace('ad sales','Sales- Channel/B2B2C/Distributor/Retail/Second ')\n",
    "l=l.replace('distribution','Sales- Channel/B2B2C/Distributor/Retail/Second ')\n",
    "l=l.replace('channel marketing','Selecting marketing channels ')\n",
    "l=l.replace('trade marketing','Marketing ') \n",
    "l=l.replace('strategic planning','Strategic decisions ')\n",
    "l=l.replace('market intelligence','Market sizing ')\n",
    "l=l.replace('key accounts','Account Manager ')\n",
    "l=l.replace('direct marketing','Marketing ')\n",
    "l=l.replace('promotional','Public Relations(PR) ')\n",
    "l=l.replace('fmcg','Ignore ')\n",
    "l=l.replace('pharma','Pharmaceuticals ')\n",
    "l=l.replace('customer service','Understanding customers ')\n",
    "l=l.replace('pricing','Pricing ')\n",
    "l=l.replace('marketing manager','Marketing ')\n",
    "l=l.replace('publicity','Public Relations(PR) ')\n",
    "l=l.replace('product sales','Sales ')\n",
    "l=l.replace('marketing initiatives','Entrepreneurial ')\n",
    "l=l.replace('planning','Exection plan ')\n",
    "l=l.replace('revenue generation','Sales ')\n",
    "l=l.replace('patnership','Managing multiple stakeholders ')\n",
    "l=l.replace('marketing budget','Budgeting ')\n",
    "l=l.replace('business strategy','Strategic decisions ')\n",
    "l=l.replace('content marketing','Selecting marketing channels ')\n",
    "l=l.replace('ppc','Online/digital marketing ')\n",
    "l=l.replace('communication skills','Comunications ')\n",
    "l=l.replace('b2b sales','Sales-B2B/Institutional/Enterprise ')\n",
    "l=l.replace('market analyst','Market sizing ')\n",
    "l=l.replace('corporate communication','Comunications ')\n",
    "l=l.replace('sale manager','Sales ')\n",
    "l=l.replace('b2b marketing','Marketing ')\n",
    "l=l.replace('data analytics','Data Analysis ')\n",
    "l=l.replace('cold calling','Understanding customers ')\n",
    "l=l.replace('brand promotion','Branding ')\n",
    "l=l.replace('region','Ignore ')\n",
    "l=l.replace('product portfolio','Ignore ')\n",
    "l=l.replace('field sales','Sales ')\n",
    "l=l.replace('customer relationship','Understanding customers ')\n",
    "l=l.replace('brand positioning','Branding ')\n",
    "l=l.replace('online reputation management','Difficult conversations ')\n",
    "l=l.replace('marketing head','Strategic decisions ')\n",
    "l=l.replace('senior management','Strategic decisions ')\n",
    "l=l.replace('event management','Events ')\n",
    "l=l.replace('product life circle','Product Management/Product Manager ')\n",
    "l=l.replace('marketing executive','Strategic decisions ')\n",
    "l=l.replace('fresher','Ignore ')\n",
    "l=l.replace('part time','Ignore ')\n",
    "l=l.replace('sale executive','Sales ')\n",
    "l=l.replace('freelancing','Ignore ')\n",
    "l=l.replace('facebook','Online/digital marketing ')\n",
    "l=l.replace('bcom','Ignore ')\n",
    "l=l.replace('business development executive','Business Development/Partnerships ')\n",
    "l=l.replace('bm','Ignore ')\n",
    "l=l.replace('content writing','Copyediting ')\n",
    "l=l.replace('search engine optimization','Online/digital marketing ')\n",
    "l=l.replace('bbm','Ignore ')\n",
    "l=l.replace('direct sales','Selecting marketing channels ')\n",
    "l=l.replace('sales executive','Sales ')\n",
    "l=l.replace('internet marketing','Online/digital marketing ')\n",
    "l=l.replace('marketing sales','Sales ')\n",
    "l=l.replace('back office','Ignore ')\n",
    "l=l.replace('retail sales','Sales- Channel/B2B2C/Distributor/Retail/Secondary ')\n",
    "l=l.replace('recruitment','Human Resources / HR-Recruiting ')\n",
    "l=l.replace('data entry','Administrative ')\n",
    "l=l.replace('bmm','Ignore ')\n",
    "l=l.replace('hr','Human Resources ')\n",
    "l=l.replace('medium','Ignore ')\n",
    "l=l.replace('networking','Patnerships/Relationships ')\n",
    "l=l.replace('online','Online/digital marketing ')\n",
    "l=l.replace('twitter','Online/digital marketing ')\n",
    "l=l.replace('photoshop','Software ')\n",
    "l=l.replace('travel','Ignore ')\n",
    "l=l.replace('software development','IT Software Engineer/CTO ')\n",
    "l=l.replace('engineering','Engineering ')\n",
    "l=l.replace('management','Ignore ')\n",
    "l=l.replace('ms office','MS Office ')\n",
    "l=l.replace('web technologies','Information Services and Technology(Tech) ')\n",
    "l=l.replace('internet','Ignore ')\n",
    "l=l.replace('btech','Ignore ')\n",
    "l=l.replace('bba','Ignore ')\n",
    "l=l.replace('seo executive','Online/digital marketing ')\n",
    "l=l.replace('product strategy','Strategic decisions ')\n",
    "l=l.replace('social networking','Online/digital marketing ')\n",
    "l=l.replace('bde','Business Development/Partnerships ')\n",
    "l=l.replace('google adwords','Online/digital marketing ')\n",
    "l=l.replace('brand awareness','Branding ')\n",
    "l=l.replace('sales executive','Sales ')\n",
    "l=l.replace('telemarketing','Selecting marketing channels ')\n",
    "l=l.replace('idea','Entrepreneurial ')\n",
    "l=l.replace('data analysis','Data Analysis ')\n",
    "l=l.replace('new business','Business Development/Partnerships ')\n",
    "l=l.replace('customer experience','Customer Service / Customer Care ')\n",
    "l=l.replace('analytical','Analytics ')\n",
    "l=l.replace('exhibition','Ignore ')\n",
    "l=l.replace('customer acquisition','Lead generation ')\n",
    "l=l.replace('media sales','Sales- Channel/B2B2C/Distributor/Retail/Secondary ')\n",
    "l=l.replace('consultant','Ignore ')\n",
    "l=l.replace('web analytics','Online/digital marketing ')\n",
    "l=l.replace('ms excel','Excel ')\n",
    "l=l.replace('client management','Managing multiple stakeholders ')\n",
    "l=l.replace('sales process','Sales ')\n",
    "l=l.replace('research','Research ')\n",
    "l=l.replace('cross selling','Sales - Other ')\n",
    "l=l.split(' ') "
   ]
  },
  {
   "cell_type": "markdown",
   "metadata": {},
   "source": [
    "# Taking all the possible words in a list (d1) that can occur in (l) of length upto 5 words"
   ]
  },
  {
   "cell_type": "code",
   "execution_count": 32,
   "metadata": {
    "collapsed": true
   },
   "outputs": [],
   "source": [
    "b=[]\n",
    "\n",
    "for i in range (len(l)):\n",
    "    b.append(l[i:i+1])\n",
    "    b.append(l[i-1:i+2])\n",
    "    b.append(l[i-2:i+1])\n",
    "    b.append(l[i:i+3])\n",
    "    b.append(l[i:i+2])\n",
    "    b.append(l[i-1:i+1])\n",
    "    b.append(l[i-3:i+1])\n",
    "    b.append(l[i-2:i+2])\n",
    "    b.append(l[i-1:i+3])\n",
    "    b.append(l[i:i+4])\n",
    "    b.append(l[i-4:i+1])\n",
    "    b.append(l[i-3:i+2])\n",
    "    b.append(l[i-2:i+3])\n",
    "    b.append(l[i-1:i+4])\n",
    "    b.append(l[i:i+5])\n",
    "    \n",
    "    \n",
    "        \n",
    "d1=[]\n",
    "for sublist in b:\n",
    "    d1.append(' '.join(sublist))\n"
   ]
  },
  {
   "cell_type": "markdown",
   "metadata": {},
   "source": [
    "# Function\n",
    "a1 is containing all the key words for function"
   ]
  },
  {
   "cell_type": "code",
   "execution_count": 33,
   "metadata": {
    "collapsed": true
   },
   "outputs": [],
   "source": [
    "a1=['Administrative',\n",
    "'Advertising',\n",
    "'Analytics / Analyst / Research / Business Intelligence',\n",
    "'Business Development/Partnerships',\n",
    "'Mechanical Engineer',\n",
    "'Customer Service / Customer Care',\n",
    "'Designer / Creative / User Experience (UX)',\n",
    "'Civil Engineer',\n",
    "'Fashion Designing / Designer / Merchandising',\n",
    "'Investing / Investment',\n",
    "'Lending / Credit / Collections / Risk',\n",
    "'Financial Strategy / CFO / Financial Planner',\n",
    "'General Business / Business Unit Head / General Manager',\n",
    "'Human Resources / HR-Recruiting',\n",
    "'Human Resources / HR - Other',\n",
    "'IT Hardware Engineer/CTO',\n",
    "'IT Software Engineer/CTO',\n",
    "'Legal, Regulatory',\n",
    "'Financial Operations / Administrative Finance',\n",
    "'Manufacturing / Production',\n",
    "'Marketing',\n",
    "'Operations',\n",
    "'Other',\n",
    "'Product Management/Product Manager',\n",
    "'Project/Program Manager',\n",
    "'Public Relations (PR)',\n",
    "'Purchasing / Purchasor',\n",
    "'Automation Engineer / QA',\n",
    "'Sales-B2B/Institutional/Enterprise',\n",
    "'Sales-B2C/D2C/Tertiary',\n",
    "'Strategy/Planning',\n",
    "'Supply Chain / Logistics',\n",
    "'Training / Trainer',\n",
    "'Communications / Branding / Content',\n",
    "'Partnerships/Relationships',\n",
    "'Sales - Other',\n",
    "'Digital Marketing / Social Media',\n",
    "'Front End Engineer / Developer',\n",
    "'Backend Engineer / Developer',\n",
    "'Quality Assurance (QA)',\n",
    "'Inventory Management',\n",
    "'Service / Tech support',\n",
    "'Account Manager',\n",
    "'Electrical Engineer',\n",
    "'Data / Data Science']"
   ]
  },
  {
   "cell_type": "markdown",
   "metadata": {},
   "source": [
    "# Behaviour\n",
    "a2 is containing all the key words of Behaviour"
   ]
  },
  {
   "cell_type": "code",
   "execution_count": 34,
   "metadata": {
    "collapsed": true
   },
   "outputs": [],
   "source": [
    "a2=['Conscientious',\n",
    "'Curious',\n",
    "'Entrepreneurial',  \n",
    "'Focus',\n",
    "'Integrity', \n",
    "'Motivated' ,\n",
    "'Multi-task', \n",
    "'Persistent',\n",
    "'Reliability', \n",
    "'Result-oriented', \n",
    "'Rigorous',\n",
    "'Team player',\n",
    "'Willing to learn', \n",
    "'Working with ambiguity']"
   ]
  },
  {
   "cell_type": "markdown",
   "metadata": {},
   "source": [
    "# Competency\n",
    "a3 is containing all the key words of Competency"
   ]
  },
  {
   "cell_type": "code",
   "execution_count": 35,
   "metadata": {
    "collapsed": true
   },
   "outputs": [],
   "source": [
    "a3=['Administrative',\n",
    "'Communications',\n",
    "'Data Analysis',\n",
    "'Engineering',\n",
    "'Finance',\n",
    "'General Mental Ability', \n",
    "'Managing People',\n",
    "'Marketing',\n",
    "'Planning & Execution', \n",
    "'Process Thinking',\n",
    "'Programming Languages', \n",
    "'Research',\n",
    "'Sales',\n",
    "'Software'] "
   ]
  },
  {
   "cell_type": "markdown",
   "metadata": {},
   "source": [
    "# Task\n",
    "a4 is containing all the key words of Task "
   ]
  },
  {
   "cell_type": "code",
   "execution_count": 36,
   "metadata": {
    "collapsed": true
   },
   "outputs": [],
   "source": [
    "a4=['HTML',\n",
    "'Java',\n",
    "'SQL',\n",
    "'.NET',\n",
    "'Active listening',\n",
    "'Allocating resources',\n",
    "'Analytics',\n",
    "'angular js',\n",
    "'Attention to detail',\n",
    "'Basic Finance',\n",
    "'Branding',\n",
    "'Budgeting', \n",
    "'Building awareness',\n",
    "'Building trust',\n",
    "'Civil engineering',  \n",
    "'Collections',\n",
    "'Conducting interviews', \n",
    "'Contracts',\n",
    "'Conversions',\n",
    "'Conveying complex ideas',\n",
    "'Copyediting',\n",
    "'Difficult conversations', \n",
    "'Electrical engineering',\n",
    "'Events',\n",
    "'Excel',\n",
    "'Execution plan', \n",
    "'Expenses',\n",
    "'Financial accounting',\n",
    "'Financial modeling',\n",
    "'full stack engineering',\n",
    "'Fundraising',\n",
    "'Getting buy-in', \n",
    "'Identifying risk', \n",
    "'Interpreting data', \n",
    "'Investment / Credit decisions', \n",
    "'JavaScript',\n",
    "'Lead generation', \n",
    "'Learning quickly', \n",
    "'Managing deadlines',\n",
    "'Managing down',\n",
    "'Managing multiple stakeholders', \n",
    "'Managing peers',\n",
    "'Managing up',\n",
    "'Market sizing', \n",
    "'Math',\n",
    "'Mechanical engineering', \n",
    "'Meeting targets',\n",
    "'Negotiating',\n",
    "'Online/digital marketing', \n",
    "'Pattern recognition',\n",
    "'Pitching',\n",
    "'Pleasing people',\n",
    "'Post-Purchase / Engagement',\n",
    "'PowerPoint',\n",
    "'Presenting data', \n",
    "'Presenting information',\n",
    "'Pricing',\n",
    "'Prioritizing tasks',\n",
    "'Process adherence',\n",
    "'Process design',\n",
    "'Process improvements', \n",
    "'MS Office',\n",
    "'Public speaking',\n",
    "'Quality assurance', \n",
    "'Scheduling',\n",
    "'Secondary research', \n",
    "'Selecting marketing channels', \n",
    "'Setting targets',\n",
    "'Strategic decisions', \n",
    "'Strategic design',\n",
    "'Structuring information',\n",
    "'Supply chain & logistics',\n",
    "'Synthesizing information',\n",
    "'Training',\n",
    "'Travel bookings', \n",
    "'Understanding customers', \n",
    "'Understanding requirements',  \n",
    "'Vocabulary',\n",
    "'Working memory', \n",
    "'CRM']"
   ]
  },
  {
   "cell_type": "markdown",
   "metadata": {},
   "source": [
    "# b1 is a list of all the key words occuring in the string (l)"
   ]
  },
  {
   "cell_type": "code",
   "execution_count": 37,
   "metadata": {
    "collapsed": true
   },
   "outputs": [],
   "source": [
    "b1=[]\n",
    "\n",
    "for i in range (len(d1)):\n",
    "    for b in range (len(a1)):\n",
    "        if d1[i]==a1[b]:\n",
    "            b1.append(d1[i])"
   ]
  },
  {
   "cell_type": "markdown",
   "metadata": {},
   "source": [
    "# df1 is the dataframe of the top 2 words in function "
   ]
  },
  {
   "cell_type": "code",
   "execution_count": 38,
   "metadata": {},
   "outputs": [
    {
     "data": {
      "text/html": [
       "<div>\n",
       "<style>\n",
       "    .dataframe thead tr:only-child th {\n",
       "        text-align: right;\n",
       "    }\n",
       "\n",
       "    .dataframe thead th {\n",
       "        text-align: left;\n",
       "    }\n",
       "\n",
       "    .dataframe tbody tr th {\n",
       "        vertical-align: top;\n",
       "    }\n",
       "</style>\n",
       "<table border=\"1\" class=\"dataframe\">\n",
       "  <thead>\n",
       "    <tr style=\"text-align: right;\">\n",
       "      <th></th>\n",
       "      <th>count</th>\n",
       "      <th>key</th>\n",
       "    </tr>\n",
       "  </thead>\n",
       "  <tbody>\n",
       "    <tr>\n",
       "      <th>0</th>\n",
       "      <td>23</td>\n",
       "      <td>Marketing</td>\n",
       "    </tr>\n",
       "    <tr>\n",
       "      <th>1</th>\n",
       "      <td>2</td>\n",
       "      <td>Business Development/Partnerships</td>\n",
       "    </tr>\n",
       "  </tbody>\n",
       "</table>\n",
       "</div>"
      ],
      "text/plain": [
       "   count                                key\n",
       "0     23                          Marketing\n",
       "1      2  Business Development/Partnerships"
      ]
     },
     "execution_count": 38,
     "metadata": {},
     "output_type": "execute_result"
    }
   ],
   "source": [
    "m={}\n",
    "e={}\n",
    "\n",
    "count=0\n",
    "o=[]\n",
    "for item in b1:\n",
    "    if item in e:\n",
    "        e[item]+=1\n",
    "    else:\n",
    "        e[item]=1\n",
    "a1_sorted_keys = sorted(e, key=e.get, reverse=True)\n",
    "for r in a1_sorted_keys:\n",
    "    m={'key':r,'count':e[r]}\n",
    "    o.append(m)\n",
    "    \n",
    "import pandas as pd\n",
    "df=pd.DataFrame(o)\n",
    "df1=df[:2]\n",
    "df1"
   ]
  },
  {
   "cell_type": "markdown",
   "metadata": {},
   "source": [
    "# b2 is a list of all the key words of behaviour occuring in the string (l)"
   ]
  },
  {
   "cell_type": "code",
   "execution_count": 39,
   "metadata": {
    "collapsed": true
   },
   "outputs": [],
   "source": [
    "b2=[]\n",
    "\n",
    "for i in range (len(d1)):\n",
    "    for b in range (len(a2)):\n",
    "        if d1[i]==a2[b]:\n",
    "            b2.append(d1[i])"
   ]
  },
  {
   "cell_type": "markdown",
   "metadata": {},
   "source": [
    "# df2 is the dataframe of the top 5 words in Behaviour"
   ]
  },
  {
   "cell_type": "code",
   "execution_count": 40,
   "metadata": {},
   "outputs": [
    {
     "data": {
      "text/html": [
       "<div>\n",
       "<style>\n",
       "    .dataframe thead tr:only-child th {\n",
       "        text-align: right;\n",
       "    }\n",
       "\n",
       "    .dataframe thead th {\n",
       "        text-align: left;\n",
       "    }\n",
       "\n",
       "    .dataframe tbody tr th {\n",
       "        vertical-align: top;\n",
       "    }\n",
       "</style>\n",
       "<table border=\"1\" class=\"dataframe\">\n",
       "  <thead>\n",
       "    <tr style=\"text-align: right;\">\n",
       "      <th></th>\n",
       "    </tr>\n",
       "  </thead>\n",
       "  <tbody>\n",
       "  </tbody>\n",
       "</table>\n",
       "</div>"
      ],
      "text/plain": [
       "Empty DataFrame\n",
       "Columns: []\n",
       "Index: []"
      ]
     },
     "execution_count": 40,
     "metadata": {},
     "output_type": "execute_result"
    }
   ],
   "source": [
    "m={}\n",
    "e={}\n",
    "\n",
    "count=0\n",
    "o=[]\n",
    "for item in b2:\n",
    "    if item in e:\n",
    "        e[item]+=1\n",
    "    else:\n",
    "        e[item]=1\n",
    "a1_sorted_keys = sorted(e, key=e.get, reverse=True)\n",
    "for r in a1_sorted_keys:\n",
    "    m={'key':r,'count':e[r]}\n",
    "    o.append(m)\n",
    "    \n",
    "import pandas as pd\n",
    "df=pd.DataFrame(o)\n",
    "df2=df[:5]\n",
    "df2"
   ]
  },
  {
   "cell_type": "markdown",
   "metadata": {},
   "source": [
    "# b3 is a list of all the key words of competency occuring in the string (l)"
   ]
  },
  {
   "cell_type": "code",
   "execution_count": 41,
   "metadata": {
    "collapsed": true
   },
   "outputs": [],
   "source": [
    "b3=[]\n",
    "\n",
    "for i in range (len(d1)):\n",
    "    for b in range (len(a3)):\n",
    "        if d1[i]==a3[b]:\n",
    "            b3.append(d1[i])"
   ]
  },
  {
   "cell_type": "markdown",
   "metadata": {},
   "source": [
    "# df3 is the dataframe of the top 5 words in Competency"
   ]
  },
  {
   "cell_type": "code",
   "execution_count": 42,
   "metadata": {},
   "outputs": [
    {
     "data": {
      "text/html": [
       "<div>\n",
       "<style>\n",
       "    .dataframe thead tr:only-child th {\n",
       "        text-align: right;\n",
       "    }\n",
       "\n",
       "    .dataframe thead th {\n",
       "        text-align: left;\n",
       "    }\n",
       "\n",
       "    .dataframe tbody tr th {\n",
       "        vertical-align: top;\n",
       "    }\n",
       "</style>\n",
       "<table border=\"1\" class=\"dataframe\">\n",
       "  <thead>\n",
       "    <tr style=\"text-align: right;\">\n",
       "      <th></th>\n",
       "      <th>count</th>\n",
       "      <th>key</th>\n",
       "    </tr>\n",
       "  </thead>\n",
       "  <tbody>\n",
       "    <tr>\n",
       "      <th>0</th>\n",
       "      <td>23</td>\n",
       "      <td>Marketing</td>\n",
       "    </tr>\n",
       "    <tr>\n",
       "      <th>1</th>\n",
       "      <td>9</td>\n",
       "      <td>Sales</td>\n",
       "    </tr>\n",
       "    <tr>\n",
       "      <th>2</th>\n",
       "      <td>1</td>\n",
       "      <td>Research</td>\n",
       "    </tr>\n",
       "  </tbody>\n",
       "</table>\n",
       "</div>"
      ],
      "text/plain": [
       "   count        key\n",
       "0     23  Marketing\n",
       "1      9      Sales\n",
       "2      1   Research"
      ]
     },
     "execution_count": 42,
     "metadata": {},
     "output_type": "execute_result"
    }
   ],
   "source": [
    "m={}\n",
    "e={}\n",
    "\n",
    "count=0\n",
    "o=[]\n",
    "for item in b3:\n",
    "    if item in e:\n",
    "        e[item]+=1\n",
    "    else:\n",
    "        e[item]=1\n",
    "a1_sorted_keys = sorted(e, key=e.get, reverse=True)\n",
    "for r in a1_sorted_keys:\n",
    "    m={'key':r,'count':e[r]}\n",
    "    o.append(m)\n",
    "    \n",
    "import pandas as pd\n",
    "df=pd.DataFrame(o)\n",
    "df3=df[:5]\n",
    "df3"
   ]
  },
  {
   "cell_type": "markdown",
   "metadata": {},
   "source": [
    "# b4 is a list of all the key words of task occuring in the string (l)"
   ]
  },
  {
   "cell_type": "code",
   "execution_count": 43,
   "metadata": {
    "collapsed": true
   },
   "outputs": [],
   "source": [
    "b4=[]\n",
    "\n",
    "for i in range (len(d1)):\n",
    "    for b in range (len(a4)):\n",
    "        if d1[i]==a4[b]:\n",
    "            b4.append(d1[i])"
   ]
  },
  {
   "cell_type": "markdown",
   "metadata": {},
   "source": [
    "# df4 is the dataframe of the top 5 words in Task"
   ]
  },
  {
   "cell_type": "code",
   "execution_count": 44,
   "metadata": {},
   "outputs": [
    {
     "data": {
      "text/html": [
       "<div>\n",
       "<style>\n",
       "    .dataframe thead tr:only-child th {\n",
       "        text-align: right;\n",
       "    }\n",
       "\n",
       "    .dataframe thead th {\n",
       "        text-align: left;\n",
       "    }\n",
       "\n",
       "    .dataframe tbody tr th {\n",
       "        vertical-align: top;\n",
       "    }\n",
       "</style>\n",
       "<table border=\"1\" class=\"dataframe\">\n",
       "  <thead>\n",
       "    <tr style=\"text-align: right;\">\n",
       "      <th></th>\n",
       "      <th>count</th>\n",
       "      <th>key</th>\n",
       "    </tr>\n",
       "  </thead>\n",
       "  <tbody>\n",
       "    <tr>\n",
       "      <th>0</th>\n",
       "      <td>8</td>\n",
       "      <td>Strategic decisions</td>\n",
       "    </tr>\n",
       "    <tr>\n",
       "      <th>1</th>\n",
       "      <td>6</td>\n",
       "      <td>Selecting marketing channels</td>\n",
       "    </tr>\n",
       "    <tr>\n",
       "      <th>2</th>\n",
       "      <td>4</td>\n",
       "      <td>Lead generation</td>\n",
       "    </tr>\n",
       "    <tr>\n",
       "      <th>3</th>\n",
       "      <td>3</td>\n",
       "      <td>Pricing</td>\n",
       "    </tr>\n",
       "    <tr>\n",
       "      <th>4</th>\n",
       "      <td>3</td>\n",
       "      <td>Branding</td>\n",
       "    </tr>\n",
       "  </tbody>\n",
       "</table>\n",
       "</div>"
      ],
      "text/plain": [
       "   count                           key\n",
       "0      8           Strategic decisions\n",
       "1      6  Selecting marketing channels\n",
       "2      4               Lead generation\n",
       "3      3                       Pricing\n",
       "4      3                      Branding"
      ]
     },
     "execution_count": 44,
     "metadata": {},
     "output_type": "execute_result"
    }
   ],
   "source": [
    "m={}\n",
    "e={}\n",
    "\n",
    "count=0\n",
    "o=[]\n",
    "for item in b4:\n",
    "    if item in e:\n",
    "        e[item]+=1\n",
    "    else:\n",
    "        e[item]=1\n",
    "a1_sorted_keys = sorted(e, key=e.get, reverse=True)\n",
    "for r in a1_sorted_keys:\n",
    "    m={'key':r,'count':e[r]}\n",
    "    o.append(m)\n",
    "    \n",
    "import pandas as pd\n",
    "df=pd.DataFrame(o)\n",
    "df4=df[:5]\n",
    "df4"
   ]
  },
  {
   "cell_type": "code",
   "execution_count": null,
   "metadata": {
    "collapsed": true
   },
   "outputs": [],
   "source": []
  }
 ],
 "metadata": {
  "kernelspec": {
   "display_name": "Python 3",
   "language": "python",
   "name": "python3"
  },
  "language_info": {
   "codemirror_mode": {
    "name": "ipython",
    "version": 3
   },
   "file_extension": ".py",
   "mimetype": "text/x-python",
   "name": "python",
   "nbconvert_exporter": "python",
   "pygments_lexer": "ipython3",
   "version": "3.5.4"
  }
 },
 "nbformat": 4,
 "nbformat_minor": 2
}
